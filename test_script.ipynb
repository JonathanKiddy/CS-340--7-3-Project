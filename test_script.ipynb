{
 "cells": [
  {
   "cell_type": "code",
   "execution_count": 1,
   "id": "a9e8eb36",
   "metadata": {},
   "outputs": [
    {
     "name": "stdout",
     "output_type": "stream",
     "text": [
      "Anmial added successfully!\n"
     ]
    }
   ],
   "source": [
    "#Create test script\n",
    "from animal_shelter import AnimalShelter\n",
    "shelter = AnimalShelter(\"aacuser\",\"user1234\")\n",
    "\n",
    "data = {\"1\" : 3,\n",
    "        \"age_upon_outcome\" : \"2 years\",\n",
    "        \"animal_id\" : \"TEST RUN 1\",\n",
    "        \"animal_type\" : \"Cat\",\n",
    "        \"breed\" : \"Domestic Longhair\",\n",
    "        \"color\" : \"Grey/White\",\n",
    "        \"date_of_birth\" : \"2023-04-10\",\n",
    "        \"datetime\" : \"22023-04-11 09:00:00\",\n",
    "        \"monthyear\" : \"2023-04-11T09:00:00\",\n",
    "        \"name\" : \"Charles Emerson Whinchester III\",\n",
    "        \"outcome_subtype\" : \"TEST\",\n",
    "        \"outcome_type\" : \"Adopted\",\n",
    "        \"sex_upon_outcome\" : \"Neutered Male\",\n",
    "        \"location_lat\" : 30.5066578739455,\n",
    "        \"location_long\" : -97.3408780722188,\n",
    "        \"age_upon_outcome_in_weeks\" : 104.286}\n",
    "\n",
    "if shelter.create(data):\n",
    "    print(\"Anmial added successfully!\")"
   ]
  },
  {
   "cell_type": "code",
   "execution_count": 2,
   "id": "b58c3913",
   "metadata": {
    "scrolled": true
   },
   "outputs": [
    {
     "name": "stdout",
     "output_type": "stream",
     "text": [
      "{'_id': ObjectId('648ca1836a8427b22c4ba470'), '1': 3, 'age_upon_outcome': '2 years', 'animal_id': 'TEST RUN 1', 'animal_type': 'Cat', 'breed': 'Domestic Longhair', 'color': 'Grey/White', 'date_of_birth': '2023-04-10', 'datetime': '22023-04-11 09:00:00', 'monthyear': '2023-04-11T09:00:00', 'name': 'Charles Emerson Whinchester III', 'outcome_subtype': 'TEST', 'outcome_type': 'Adopted', 'sex_upon_outcome': 'Neutered Male', 'location_lat': 30.5066578739455, 'location_long': -97.3408780722188, 'age_upon_outcome_in_weeks': 104.286}\n"
     ]
    }
   ],
   "source": [
    "#Read test script\n",
    "query = shelter.read({\"name\" : \"Charles Emerson Whinchester III\"})  \n",
    "for animal in query:\n",
    "    print(animal) "
   ]
  },
  {
   "cell_type": "code",
   "execution_count": 3,
   "id": "6fe801d0",
   "metadata": {},
   "outputs": [
    {
     "name": "stdout",
     "output_type": "stream",
     "text": [
      "Data has been Updated\n",
      "{'n': 1, 'nModified': 1, 'ok': 1.0, 'updatedExisting': True}\n"
     ]
    }
   ],
   "source": [
    "#Update test script \n",
    "updateAnimal = shelter.update({\"name\" : \"Charles Emerson Whinchester III\"}, {\"animal_id\" : \"XXXTest Case OneXXX\"}) \n",
    "print (updateAnimal)"
   ]
  },
  {
   "cell_type": "code",
   "execution_count": 4,
   "id": "c83e98b3",
   "metadata": {},
   "outputs": [
    {
     "name": "stdout",
     "output_type": "stream",
     "text": [
      "{'_id': ObjectId('648ca1836a8427b22c4ba470'), '1': 3, 'age_upon_outcome': '2 years', 'animal_id': 'XXXTest Case OneXXX', 'animal_type': 'Cat', 'breed': 'Domestic Longhair', 'color': 'Grey/White', 'date_of_birth': '2023-04-10', 'datetime': '22023-04-11 09:00:00', 'monthyear': '2023-04-11T09:00:00', 'name': 'Charles Emerson Whinchester III', 'outcome_subtype': 'TEST', 'outcome_type': 'Adopted', 'sex_upon_outcome': 'Neutered Male', 'location_lat': 30.5066578739455, 'location_long': -97.3408780722188, 'age_upon_outcome_in_weeks': 104.286}\n"
     ]
    }
   ],
   "source": [
    "query = shelter.read({\"name\" : \"Charles Emerson Whinchester III\"})  \n",
    "for animal in query:\n",
    "    print(animal) "
   ]
  },
  {
   "cell_type": "code",
   "execution_count": 5,
   "id": "7a83c51e",
   "metadata": {},
   "outputs": [
    {
     "name": "stdout",
     "output_type": "stream",
     "text": [
      "Data Deleted\n",
      "{'n': 1, 'ok': 1.0}\n"
     ]
    }
   ],
   "source": [
    "#Delete test script\n",
    "deleteAnimal = shelter.delete({\"name\" : \"Charles Emerson Whinchester III\"}) \n",
    "print(deleteAnimal)"
   ]
  },
  {
   "cell_type": "code",
   "execution_count": null,
   "id": "743afd89",
   "metadata": {},
   "outputs": [],
   "source": []
  }
 ],
 "metadata": {
  "kernelspec": {
   "display_name": "Python 3 (ipykernel)",
   "language": "python",
   "name": "python3"
  },
  "language_info": {
   "codemirror_mode": {
    "name": "ipython",
    "version": 3
   },
   "file_extension": ".py",
   "mimetype": "text/x-python",
   "name": "python",
   "nbconvert_exporter": "python",
   "pygments_lexer": "ipython3",
   "version": "3.9.12"
  }
 },
 "nbformat": 4,
 "nbformat_minor": 5
}
